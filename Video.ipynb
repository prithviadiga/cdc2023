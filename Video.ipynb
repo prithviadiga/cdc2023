{
 "cells": [
  {
   "cell_type": "code",
   "execution_count": 35,
   "id": "677c962b-ae08-4ecd-953b-a7d6f488442c",
   "metadata": {},
   "outputs": [],
   "source": [
    "from datascience import *\n",
    "import math\n",
    "import numpy as np\n",
    "import pandas as pd\n",
    "\n",
    "%matplotlib inline\n",
    "import matplotlib.pyplot as plots\n",
    "plots.style.use('fivethirtyeight')"
   ]
  },
  {
   "cell_type": "code",
   "execution_count": 2,
   "id": "25a632c1-518d-4a38-9428-55db05777852",
   "metadata": {},
   "outputs": [
    {
     "data": {
      "text/html": [
       "<table border=\"1\" class=\"dataframe\">\n",
       "    <thead>\n",
       "        <tr>\n",
       "            <th>Game</th> <th>Console</th> <th>Publisher</th> <th>Developer</th> <th>VGChartz Score</th> <th>Critic Score</th> <th>User Score</th> <th>Total Shipped</th> <th>Total Sales</th> <th>NA Sales</th> <th>PAL Sales</th> <th>Japan Sales</th> <th>Other Sales</th> <th>Release Date</th> <th>Last Update</th>\n",
       "        </tr>\n",
       "    </thead>\n",
       "    <tbody>\n",
       "        <tr>\n",
       "            <td>Tetris          </td> <td>Series_b</td> <td>The Tetris Company</td> <td>Alexey Pajitnov</td> <td>nan           </td> <td>nan         </td> <td>nan       </td> <td>496.40m      </td> <td>nan        </td> <td>nan     </td> <td>nan      </td> <td>nan        </td> <td>nan        </td> <td>01st Jan 88 </td> <td>27th Feb 20</td>\n",
       "        </tr>\n",
       "        <tr>\n",
       "            <td>Pokemon         </td> <td>Series_b</td> <td>Nintendo          </td> <td>Game Freak     </td> <td>nan           </td> <td>nan         </td> <td>nan       </td> <td>480.66m      </td> <td>nan        </td> <td>nan     </td> <td>nan      </td> <td>nan        </td> <td>nan        </td> <td>28th Sep 98 </td> <td>03rd Feb 20</td>\n",
       "        </tr>\n",
       "        <tr>\n",
       "            <td>Call of Duty    </td> <td>Series_b</td> <td>Activision        </td> <td>Infinity Ward  </td> <td>nan           </td> <td>nan         </td> <td>nan       </td> <td>425.00m      </td> <td>nan        </td> <td>nan     </td> <td>nan      </td> <td>nan        </td> <td>nan        </td> <td>29th Oct 03 </td> <td>03rd Feb 20</td>\n",
       "        </tr>\n",
       "        <tr>\n",
       "            <td>Grand Theft Auto</td> <td>Series_b</td> <td>Rockstar Games    </td> <td>Rockstar North </td> <td>nan           </td> <td>nan         </td> <td>nan       </td> <td>405.00m      </td> <td>nan        </td> <td>nan     </td> <td>nan      </td> <td>nan        </td> <td>nan        </td> <td>27th Mar 98 </td> <td>03rd Feb 20</td>\n",
       "        </tr>\n",
       "        <tr>\n",
       "            <td>Super Mario     </td> <td>Series_b</td> <td>Nintendo          </td> <td>Nintendo       </td> <td>nan           </td> <td>nan         </td> <td>nan       </td> <td>402.36m      </td> <td>nan        </td> <td>nan     </td> <td>nan      </td> <td>nan        </td> <td>nan        </td> <td>20th Jul 83 </td> <td>20th Feb 20</td>\n",
       "        </tr>\n",
       "    </tbody>\n",
       "</table>\n",
       "<p>... (62742 rows omitted)</p>"
      ],
      "text/plain": [
       "<IPython.core.display.HTML object>"
      ]
     },
     "metadata": {},
     "output_type": "display_data"
    }
   ],
   "source": [
    "Video_Data = Table.read_table('Business_Dataset.csv')\n",
    "Video_Data.show(5)"
   ]
  },
  {
   "cell_type": "code",
   "execution_count": 3,
   "id": "e3a87dea-eb21-428a-a4e5-0067e467b5e6",
   "metadata": {},
   "outputs": [
    {
     "data": {
      "text/plain": [
       "array(['01st Jan 88', '28th Sep 98', '29th Oct 03', ..., '06th Sep 18',\n",
       "       '31st Oct 17', '14th Sep 18'],\n",
       "      dtype='<U32')"
      ]
     },
     "execution_count": 3,
     "metadata": {},
     "output_type": "execute_result"
    }
   ],
   "source": [
    "Video_Data.column(\"Release Date\")"
   ]
  },
  {
   "cell_type": "code",
   "execution_count": 4,
   "id": "a61bccd9-4b61-499d-83fb-5c729ac7b7aa",
   "metadata": {},
   "outputs": [],
   "source": [
    "release_date = Video_Data.column(\"Release Date\")\n",
    "year = []\n",
    "for i in range(0, len(release_date)):\n",
    "    date = release_date[i].split()[-1]\n",
    "    year.append(date)"
   ]
  },
  {
   "cell_type": "code",
   "execution_count": 5,
   "id": "718b512c-6803-4a1c-992e-498a0ccf4d6e",
   "metadata": {},
   "outputs": [
    {
     "data": {
      "text/html": [
       "<table border=\"1\" class=\"dataframe\">\n",
       "    <thead>\n",
       "        <tr>\n",
       "            <th>Game</th> <th>Console</th> <th>Publisher</th> <th>Developer</th> <th>VGChartz Score</th> <th>Critic Score</th> <th>User Score</th> <th>Total Shipped</th> <th>NA Sales</th> <th>PAL Sales</th> <th>Japan Sales</th> <th>Other Sales</th> <th>Last Update</th> <th>Release_Date</th> <th>Total_Sales</th>\n",
       "        </tr>\n",
       "    </thead>\n",
       "    <tbody>\n",
       "        <tr>\n",
       "            <td>Tetris          </td> <td>Series_b</td> <td>The Tetris Company                    </td> <td>Alexey Pajitnov                      </td> <td>nan           </td> <td>nan         </td> <td>nan       </td> <td>496.40m      </td> <td>nan     </td> <td>nan      </td> <td>nan        </td> <td>nan        </td> <td>27th Feb 20</td> <td>88          </td> <td>0          </td>\n",
       "        </tr>\n",
       "        <tr>\n",
       "            <td>Pokemon         </td> <td>Series_b</td> <td>Nintendo                              </td> <td>Game Freak                           </td> <td>nan           </td> <td>nan         </td> <td>nan       </td> <td>480.66m      </td> <td>nan     </td> <td>nan      </td> <td>nan        </td> <td>nan        </td> <td>03rd Feb 20</td> <td>98          </td> <td>0          </td>\n",
       "        </tr>\n",
       "        <tr>\n",
       "            <td>Call of Duty    </td> <td>Series_b</td> <td>Activision                            </td> <td>Infinity Ward                        </td> <td>nan           </td> <td>nan         </td> <td>nan       </td> <td>425.00m      </td> <td>nan     </td> <td>nan      </td> <td>nan        </td> <td>nan        </td> <td>03rd Feb 20</td> <td>03          </td> <td>0          </td>\n",
       "        </tr>\n",
       "        <tr>\n",
       "            <td>Grand Theft Auto</td> <td>Series_b</td> <td>Rockstar Games                        </td> <td>Rockstar North                       </td> <td>nan           </td> <td>nan         </td> <td>nan       </td> <td>405.00m      </td> <td>nan     </td> <td>nan      </td> <td>nan        </td> <td>nan        </td> <td>03rd Feb 20</td> <td>98          </td> <td>0          </td>\n",
       "        </tr>\n",
       "        <tr>\n",
       "            <td>Super Mario     </td> <td>Series_b</td> <td>Nintendo                              </td> <td>Nintendo                             </td> <td>nan           </td> <td>nan         </td> <td>nan       </td> <td>402.36m      </td> <td>nan     </td> <td>nan      </td> <td>nan        </td> <td>nan        </td> <td>20th Feb 20</td> <td>83          </td> <td>0          </td>\n",
       "        </tr>\n",
       "        <tr>\n",
       "            <td>FIFA            </td> <td>Series_b</td> <td>EA Sports                             </td> <td>Extended Play Productions (1991-1997)</td> <td>nan           </td> <td>nan         </td> <td>nan       </td> <td>325.00m      </td> <td>nan     </td> <td>nan      </td> <td>nan        </td> <td>nan        </td> <td>03rd Feb 20</td> <td>93          </td> <td>0          </td>\n",
       "        </tr>\n",
       "        <tr>\n",
       "            <td>Minecraft       </td> <td>Series_b</td> <td>Mojang                                </td> <td>Mojang                               </td> <td>nan           </td> <td>nan         </td> <td>nan       </td> <td>238.00m      </td> <td>nan     </td> <td>nan      </td> <td>nan        </td> <td>nan        </td> <td>08th Feb 20</td> <td>11          </td> <td>0          </td>\n",
       "        </tr>\n",
       "        <tr>\n",
       "            <td>Minecraft       </td> <td>All_b   </td> <td>Mojang                                </td> <td>Mojang AB                            </td> <td>nan           </td> <td>nan         </td> <td>nan       </td> <td>238.00m      </td> <td>nan     </td> <td>nan      </td> <td>nan        </td> <td>nan        </td> <td>08th Oct 20</td> <td>11          </td> <td>0          </td>\n",
       "        </tr>\n",
       "        <tr>\n",
       "            <td>Lego            </td> <td>Series_b</td> <td>Warner Bros. Interactive Entertainment</td> <td>TT Fusion                            </td> <td>nan           </td> <td>nan         </td> <td>nan       </td> <td>203.22m      </td> <td>nan     </td> <td>nan      </td> <td>nan        </td> <td>nan        </td> <td>01st Mar 20</td> <td>97          </td> <td>0          </td>\n",
       "        </tr>\n",
       "        <tr>\n",
       "            <td>Assassin's Creed</td> <td>Series_b</td> <td>Ubisoft                               </td> <td>Ubisoft                              </td> <td>nan           </td> <td>nan         </td> <td>nan       </td> <td>200.00m      </td> <td>nan     </td> <td>nan      </td> <td>nan        </td> <td>nan        </td> <td>11th Feb 20</td> <td>07          </td> <td>0          </td>\n",
       "        </tr>\n",
       "    </tbody>\n",
       "</table>\n",
       "<p>... (62737 rows omitted)</p>"
      ],
      "text/plain": [
       "Game             | Console  | Publisher                              | Developer                             | VGChartz Score | Critic Score | User Score | Total Shipped | NA Sales | PAL Sales | Japan Sales | Other Sales | Last Update | Release_Date | Total_Sales\n",
       "Tetris           | Series_b | The Tetris Company                     | Alexey Pajitnov                       | nan            | nan          | nan        | 496.40m       | nan      | nan       | nan         | nan         | 27th Feb 20 | 88           | 0\n",
       "Pokemon          | Series_b | Nintendo                               | Game Freak                            | nan            | nan          | nan        | 480.66m       | nan      | nan       | nan         | nan         | 03rd Feb 20 | 98           | 0\n",
       "Call of Duty     | Series_b | Activision                             | Infinity Ward                         | nan            | nan          | nan        | 425.00m       | nan      | nan       | nan         | nan         | 03rd Feb 20 | 03           | 0\n",
       "Grand Theft Auto | Series_b | Rockstar Games                         | Rockstar North                        | nan            | nan          | nan        | 405.00m       | nan      | nan       | nan         | nan         | 03rd Feb 20 | 98           | 0\n",
       "Super Mario      | Series_b | Nintendo                               | Nintendo                              | nan            | nan          | nan        | 402.36m       | nan      | nan       | nan         | nan         | 20th Feb 20 | 83           | 0\n",
       "FIFA             | Series_b | EA Sports                              | Extended Play Productions (1991-1997) | nan            | nan          | nan        | 325.00m       | nan      | nan       | nan         | nan         | 03rd Feb 20 | 93           | 0\n",
       "Minecraft        | Series_b | Mojang                                 | Mojang                                | nan            | nan          | nan        | 238.00m       | nan      | nan       | nan         | nan         | 08th Feb 20 | 11           | 0\n",
       "Minecraft        | All_b    | Mojang                                 | Mojang AB                             | nan            | nan          | nan        | 238.00m       | nan      | nan       | nan         | nan         | 08th Oct 20 | 11           | 0\n",
       "Lego             | Series_b | Warner Bros. Interactive Entertainment | TT Fusion                             | nan            | nan          | nan        | 203.22m       | nan      | nan       | nan         | nan         | 01st Mar 20 | 97           | 0\n",
       "Assassin's Creed | Series_b | Ubisoft                                | Ubisoft                               | nan            | nan          | nan        | 200.00m       | nan      | nan       | nan         | nan         | 11th Feb 20 | 07           | 0\n",
       "... (62737 rows omitted)"
      ]
     },
     "execution_count": 5,
     "metadata": {},
     "output_type": "execute_result"
    }
   ],
   "source": [
    "Video_Data_drop = Video_Data.drop(\"Release Date\")\n",
    "Video_Data_Release = Video_Data_drop.with_column(\"Release_Date\", year)\n",
    "Total_Sales = Video_Data_Release.column(\"Total Sales\")\n",
    "remove_nan_TotalSales = []\n",
    "for i in range(0, len(Total_Sales)):\n",
    "    if Total_Sales[i] == \"nan\":\n",
    "        remove_nan_TotalSales.append('0')\n",
    "    else:\n",
    "        remove_nan_TotalSales.append(Total_Sales[i])\n",
    "Video_Data_Release_drop_TotalSales = Video_Data_Release.drop(\"Total Sales\")\n",
    "Video_Data_Release_TotalSales = Video_Data_Release_drop_TotalSales.with_column(\"Total_Sales\", remove_nan_TotalSales)\n",
    "Video_Data_Release_TotalSales"
   ]
  },
  {
   "cell_type": "code",
   "execution_count": 6,
   "id": "97052d27-49b1-4546-8773-7ce386504619",
   "metadata": {},
   "outputs": [],
   "source": [
    "#Video_Data_Release.where(\"Release_Date\", are.below(\"10\")).show(5)"
   ]
  },
  {
   "cell_type": "code",
   "execution_count": 7,
   "id": "6d3f2d54-7f92-461c-a76d-222ff3c493be",
   "metadata": {},
   "outputs": [],
   "source": [
    "j = Video_Data_Release_TotalSales.column(\"Total_Sales\")\n",
    "index = []\n",
    "for i in range(0, len(j)):\n",
    "    if j[i] != \"0\":\n",
    "        index.append(i)\n",
    "Video_Data_Release_TotalSales_nan = Video_Data_Release_TotalSales.take(index)\n",
    "k = Video_Data_Release_TotalSales_nan.column(\"Release_Date\")\n",
    "index = []\n",
    "for i in range(0, len(k)):\n",
    "    if k[i] != \"nan\":\n",
    "        index.append(i)\n",
    "Video_Data_Release_TotalSales_NAN = Video_Data_Release_TotalSales_nan.take(index)\n",
    "#always have to run 1st"
   ]
  },
  {
   "cell_type": "code",
   "execution_count": 8,
   "id": "6dd9e2e9-86f4-48d1-9901-cc928da5d76e",
   "metadata": {},
   "outputs": [],
   "source": [
    "t = Video_Data_Release_TotalSales_NAN.column(\"Total_Sales\")\n",
    "m = []\n",
    "for i in t:\n",
    "    num = \"\"\n",
    "    for n in range(0, len(i)-1):\n",
    "        num += i[n]\n",
    "    m.append(num)\n",
    "Video_Data_Release_TotalSales_NAN = Video_Data_Release_TotalSales_NAN.drop(\"Total_Sales\").with_column(\"Total_Sales_M\", m)\n"
   ]
  },
  {
   "cell_type": "code",
   "execution_count": 9,
   "id": "43caf1d8-a84a-4760-a277-c5a83e8f06ef",
   "metadata": {},
   "outputs": [],
   "source": [
    "not_num = Video_Data_Release_TotalSales_NAN.column(\"Total_Sales_M\")\n",
    "num = []\n",
    "\n",
    "for i in not_num:\n",
    "    num.append(float(i))\n",
    "Video_Data_Release_TotalSales_NAN = Video_Data_Release_TotalSales_NAN.drop(\"Total_Sales_M\").with_column(\"Num_Total_Sales_M\", num)\n",
    "\n",
    "tens = Video_Data_Release_TotalSales_NAN.where(\"Release_Date\", are.between(\"00\", \"10\"))\n",
    "nine = Video_Data_Release_TotalSales_NAN.where(\"Release_Date\", are.between_or_equal_to(\"90\",\"99\"))"
   ]
  },
  {
   "cell_type": "code",
   "execution_count": 23,
   "id": "c3316d0e-92e6-4e12-8b32-65c2e13a25a9",
   "metadata": {},
   "outputs": [
    {
     "data": {
      "text/html": [
       "<table border=\"1\" class=\"dataframe\">\n",
       "    <thead>\n",
       "        <tr>\n",
       "            <th>Publisher</th> <th>Num_Total_Sales_M average</th>\n",
       "        </tr>\n",
       "    </thead>\n",
       "    <tbody>\n",
       "        <tr>\n",
       "            <td>3DO                  </td> <td>0.532857                 </td>\n",
       "        </tr>\n",
       "        <tr>\n",
       "            <td>989 Sports           </td> <td>0.38                     </td>\n",
       "        </tr>\n",
       "        <tr>\n",
       "            <td>989 Studios          </td> <td>0.889375                 </td>\n",
       "        </tr>\n",
       "        <tr>\n",
       "            <td>A1 Games             </td> <td>0.02                     </td>\n",
       "        </tr>\n",
       "        <tr>\n",
       "            <td>ASC Games            </td> <td>0.393333                 </td>\n",
       "        </tr>\n",
       "        <tr>\n",
       "            <td>ASCII Entertainment  </td> <td>0.377273                 </td>\n",
       "        </tr>\n",
       "        <tr>\n",
       "            <td>ASK                  </td> <td>0.03                     </td>\n",
       "        </tr>\n",
       "        <tr>\n",
       "            <td>Acclaim Entertainment</td> <td>0.411282                 </td>\n",
       "        </tr>\n",
       "        <tr>\n",
       "            <td>Accolade             </td> <td>0.53                     </td>\n",
       "        </tr>\n",
       "        <tr>\n",
       "            <td>Activision           </td> <td>0.654                    </td>\n",
       "        </tr>\n",
       "    </tbody>\n",
       "</table>\n",
       "<p>... (171 rows omitted)</p>"
      ],
      "text/plain": [
       "Publisher             | Num_Total_Sales_M average\n",
       "3DO                   | 0.532857\n",
       "989 Sports            | 0.38\n",
       "989 Studios           | 0.889375\n",
       "A1 Games              | 0.02\n",
       "ASC Games             | 0.393333\n",
       "ASCII Entertainment   | 0.377273\n",
       "ASK                   | 0.03\n",
       "Acclaim Entertainment | 0.411282\n",
       "Accolade              | 0.53\n",
       "Activision            | 0.654\n",
       "... (171 rows omitted)"
      ]
     },
     "execution_count": 23,
     "metadata": {},
     "output_type": "execute_result"
    }
   ],
   "source": [
    "nine.select('Publisher', 'Num_Total_Sales_M').group('Publisher', np.average)"
   ]
  },
  {
   "cell_type": "code",
   "execution_count": 14,
   "id": "f7eba901-e660-4dcb-a768-0cc5bbae73dc",
   "metadata": {},
   "outputs": [
    {
     "data": {
      "text/html": [
       "<table border=\"1\" class=\"dataframe\">\n",
       "    <thead>\n",
       "        <tr>\n",
       "            <th>Publisher</th> <th>Num_Total_Sales_M average</th>\n",
       "        </tr>\n",
       "    </thead>\n",
       "    <tbody>\n",
       "        <tr>\n",
       "            <td>10TACLE Studios</td> <td>0.12                     </td>\n",
       "        </tr>\n",
       "        <tr>\n",
       "            <td>1C Company     </td> <td>0.00666667               </td>\n",
       "        </tr>\n",
       "        <tr>\n",
       "            <td>2K Games       </td> <td>0.33566                  </td>\n",
       "        </tr>\n",
       "        <tr>\n",
       "            <td>2K Play        </td> <td>0.458696                 </td>\n",
       "        </tr>\n",
       "        <tr>\n",
       "            <td>2K Sports      </td> <td>0.279245                 </td>\n",
       "        </tr>\n",
       "        <tr>\n",
       "            <td>3 O'Clock      </td> <td>0.03                     </td>\n",
       "        </tr>\n",
       "        <tr>\n",
       "            <td>3DO            </td> <td>0.158158                 </td>\n",
       "        </tr>\n",
       "        <tr>\n",
       "            <td>49Games        </td> <td>0.03                     </td>\n",
       "        </tr>\n",
       "        <tr>\n",
       "            <td>505 Games      </td> <td>0.135682                 </td>\n",
       "        </tr>\n",
       "        <tr>\n",
       "            <td>5pb            </td> <td>0.0122581                </td>\n",
       "        </tr>\n",
       "    </tbody>\n",
       "</table>\n",
       "<p>... (378 rows omitted)</p>"
      ],
      "text/plain": [
       "Publisher       | Num_Total_Sales_M average\n",
       "10TACLE Studios | 0.12\n",
       "1C Company      | 0.00666667\n",
       "2K Games        | 0.33566\n",
       "2K Play         | 0.458696\n",
       "2K Sports       | 0.279245\n",
       "3 O'Clock       | 0.03\n",
       "3DO             | 0.158158\n",
       "49Games         | 0.03\n",
       "505 Games       | 0.135682\n",
       "5pb             | 0.0122581\n",
       "... (378 rows omitted)"
      ]
     },
     "execution_count": 14,
     "metadata": {},
     "output_type": "execute_result"
    }
   ],
   "source": [
    "tens.select('Publisher', 'Num_Total_Sales_M').group('Publisher', np.average)"
   ]
  },
  {
   "cell_type": "code",
   "execution_count": 41,
   "id": "adfe49cd-3467-4a43-aed9-9c8837419a48",
   "metadata": {},
   "outputs": [
    {
     "data": {
      "text/html": [
       "<table border=\"1\" class=\"dataframe\">\n",
       "    <thead>\n",
       "        <tr>\n",
       "            <th>Game</th> <th>Console</th> <th>Publisher</th> <th>Developer</th> <th>VGChartz Score</th> <th>Critic Score</th> <th>User Score</th> <th>Total Shipped</th> <th>NA Sales</th> <th>PAL Sales</th> <th>Japan Sales</th> <th>Other Sales</th> <th>Last Update</th> <th>Release_Date</th> <th>Num_Total_Sales_M</th>\n",
       "        </tr>\n",
       "    </thead>\n",
       "    <tbody>\n",
       "        <tr>\n",
       "            <td>Driver                    </td> <td>PS_b   </td> <td>GT Interactive   </td> <td>Reflections Interactive</td> <td>nan           </td> <td>8.5         </td> <td>nan       </td> <td>nan          </td> <td>3.11m   </td> <td>2.80m    </td> <td>0.02m      </td> <td>0.33m      </td> <td>nan        </td> <td>99          </td> <td>6.27             </td>\n",
       "        </tr>\n",
       "        <tr>\n",
       "            <td>Tekken 2                  </td> <td>PS_b   </td> <td>Namco            </td> <td>Namco                  </td> <td>nan           </td> <td>9.1         </td> <td>nan       </td> <td>nan          </td> <td>2.26m   </td> <td>1.89m    </td> <td>1.36m      </td> <td>0.23m      </td> <td>nan        </td> <td>96          </td> <td>5.74             </td>\n",
       "        </tr>\n",
       "        <tr>\n",
       "            <td>Tomb Raider II            </td> <td>PS_b   </td> <td>Eidos Interactive</td> <td>Core Design Ltd.       </td> <td>nan           </td> <td>7.6         </td> <td>nan       </td> <td>nan          </td> <td>2.30m   </td> <td>2.46m    </td> <td>0.20m      </td> <td>0.28m      </td> <td>nan        </td> <td>97          </td> <td>5.24             </td>\n",
       "        </tr>\n",
       "        <tr>\n",
       "            <td>Microsoft Flight Simulator</td> <td>PC_b   </td> <td>Microsoft        </td> <td>Microsoft              </td> <td>nan           </td> <td>7           </td> <td>nan       </td> <td>nan          </td> <td>3.22m   </td> <td>1.69m    </td> <td>nan        </td> <td>0.20m      </td> <td>nan        </td> <td>96          </td> <td>5.12             </td>\n",
       "        </tr>\n",
       "        <tr>\n",
       "            <td>Tony Hawk's Pro Skater    </td> <td>PS_b   </td> <td>Activision       </td> <td>Neversoft Entertainment</td> <td>nan           </td> <td>9.6         </td> <td>nan       </td> <td>nan          </td> <td>3.42m   </td> <td>1.38m    </td> <td>0.02m      </td> <td>0.20m      </td> <td>nan        </td> <td>99          </td> <td>5.02             </td>\n",
       "        </tr>\n",
       "    </tbody>\n",
       "</table>\n",
       "<p>... (247 rows omitted)</p>"
      ],
      "text/plain": [
       "<IPython.core.display.HTML object>"
      ]
     },
     "metadata": {},
     "output_type": "display_data"
    }
   ],
   "source": [
    "c = nine.column(\"Critic Score\")\n",
    "index = []\n",
    "for i in range(0, len(c)):\n",
    "    if c[i] > 0.0:\n",
    "        index.append(i)\n",
    "nine_C = nine.take(index)\n",
    "nine_C.show(5)"
   ]
  },
  {
   "cell_type": "code",
   "execution_count": 42,
   "id": "20f9d1fb-0904-4a02-9dd3-006729c4804c",
   "metadata": {},
   "outputs": [
    {
     "data": {
      "text/html": [
       "<table border=\"1\" class=\"dataframe\">\n",
       "    <thead>\n",
       "        <tr>\n",
       "            <th>Publisher</th> <th>Critic Score average</th>\n",
       "        </tr>\n",
       "    </thead>\n",
       "    <tbody>\n",
       "        <tr>\n",
       "            <td>3DO                  </td> <td>4.2                 </td>\n",
       "        </tr>\n",
       "        <tr>\n",
       "            <td>989 Studios          </td> <td>5.38                </td>\n",
       "        </tr>\n",
       "        <tr>\n",
       "            <td>ASC Games            </td> <td>6.4                 </td>\n",
       "        </tr>\n",
       "        <tr>\n",
       "            <td>ASCII Entertainment  </td> <td>6.56667             </td>\n",
       "        </tr>\n",
       "        <tr>\n",
       "            <td>Acclaim Entertainment</td> <td>5.73846             </td>\n",
       "        </tr>\n",
       "        <tr>\n",
       "            <td>Accolade             </td> <td>5.8                 </td>\n",
       "        </tr>\n",
       "        <tr>\n",
       "            <td>Activision           </td> <td>6.5                 </td>\n",
       "        </tr>\n",
       "        <tr>\n",
       "            <td>Agetec               </td> <td>5.46667             </td>\n",
       "        </tr>\n",
       "        <tr>\n",
       "            <td>Atari                </td> <td>7.9                 </td>\n",
       "        </tr>\n",
       "        <tr>\n",
       "            <td>Atlus                </td> <td>7.45                </td>\n",
       "        </tr>\n",
       "    </tbody>\n",
       "</table>\n",
       "<p>... (51 rows omitted)</p>"
      ],
      "text/plain": [
       "Publisher             | Critic Score average\n",
       "3DO                   | 4.2\n",
       "989 Studios           | 5.38\n",
       "ASC Games             | 6.4\n",
       "ASCII Entertainment   | 6.56667\n",
       "Acclaim Entertainment | 5.73846\n",
       "Accolade              | 5.8\n",
       "Activision            | 6.5\n",
       "Agetec                | 5.46667\n",
       "Atari                 | 7.9\n",
       "Atlus                 | 7.45\n",
       "... (51 rows omitted)"
      ]
     },
     "execution_count": 42,
     "metadata": {},
     "output_type": "execute_result"
    }
   ],
   "source": [
    "nine_C.select('Publisher', 'Critic Score').group('Publisher', np.average)"
   ]
  },
  {
   "cell_type": "code",
   "execution_count": 44,
   "id": "099cb688-fc67-46f2-8fe9-e88440490364",
   "metadata": {},
   "outputs": [
    {
     "data": {
      "text/html": [
       "<table border=\"1\" class=\"dataframe\">\n",
       "    <thead>\n",
       "        <tr>\n",
       "            <th>Game</th> <th>Console</th> <th>Publisher</th> <th>Developer</th> <th>VGChartz Score</th> <th>Critic Score</th> <th>User Score</th> <th>Total Shipped</th> <th>NA Sales</th> <th>PAL Sales</th> <th>Japan Sales</th> <th>Other Sales</th> <th>Last Update</th> <th>Release_Date</th> <th>Num_Total_Sales_M</th>\n",
       "        </tr>\n",
       "    </thead>\n",
       "    <tbody>\n",
       "        <tr>\n",
       "            <td>Grand Theft Auto: Vice City   </td> <td>PS2_b  </td> <td>Rockstar Games</td> <td>Rockstar North</td> <td>nan           </td> <td>9.6         </td> <td>nan       </td> <td>nan          </td> <td>8.41m   </td> <td>5.49m    </td> <td>0.47m      </td> <td>1.78m      </td> <td>nan        </td> <td>02          </td> <td>16.15            </td>\n",
       "        </tr>\n",
       "        <tr>\n",
       "            <td>Call of Duty: Modern Warfare 2</td> <td>X360_b </td> <td>Activision    </td> <td>Infinity Ward </td> <td>9             </td> <td>9.5         </td> <td>9         </td> <td>nan          </td> <td>8.54m   </td> <td>3.63m    </td> <td>0.08m      </td> <td>1.28m      </td> <td>nan        </td> <td>09          </td> <td>13.53            </td>\n",
       "        </tr>\n",
       "        <tr>\n",
       "            <td>Grand Theft Auto III          </td> <td>PS2_b  </td> <td>Rockstar Games</td> <td>DMA Design    </td> <td>nan           </td> <td>9.5         </td> <td>nan       </td> <td>nan          </td> <td>6.99m   </td> <td>4.51m    </td> <td>0.30m      </td> <td>1.30m      </td> <td>nan        </td> <td>01          </td> <td>13.1             </td>\n",
       "        </tr>\n",
       "        <tr>\n",
       "            <td>Grand Theft Auto IV           </td> <td>X360_b </td> <td>Rockstar Games</td> <td>Rockstar North</td> <td>9             </td> <td>10          </td> <td>nan       </td> <td>nan          </td> <td>6.80m   </td> <td>3.11m    </td> <td>0.14m      </td> <td>1.04m      </td> <td>nan        </td> <td>08          </td> <td>11.09            </td>\n",
       "        </tr>\n",
       "        <tr>\n",
       "            <td>Call of Duty: Modern Warfare 2</td> <td>PS3_b  </td> <td>Activision    </td> <td>Infinity Ward </td> <td>9             </td> <td>9.5         </td> <td>nan       </td> <td>nan          </td> <td>4.99m   </td> <td>3.66m    </td> <td>0.38m      </td> <td>1.59m      </td> <td>nan        </td> <td>09          </td> <td>10.61            </td>\n",
       "        </tr>\n",
       "    </tbody>\n",
       "</table>\n",
       "<p>... (2545 rows omitted)</p>"
      ],
      "text/plain": [
       "<IPython.core.display.HTML object>"
      ]
     },
     "metadata": {},
     "output_type": "display_data"
    }
   ],
   "source": [
    "c = tens.column(\"Critic Score\")\n",
    "index = []\n",
    "for i in range(0, len(c)):\n",
    "    if c[i] > 0.0:\n",
    "        index.append(i)\n",
    "ten_C = tens.take(index)\n",
    "ten_C.show(5)"
   ]
  },
  {
   "cell_type": "code",
   "execution_count": 45,
   "id": "7b7d41e3-2c1f-46f3-992b-ca146d919f2a",
   "metadata": {},
   "outputs": [
    {
     "data": {
      "text/html": [
       "<table border=\"1\" class=\"dataframe\">\n",
       "    <thead>\n",
       "        <tr>\n",
       "            <th>Publisher</th> <th>Critic Score average</th>\n",
       "        </tr>\n",
       "    </thead>\n",
       "    <tbody>\n",
       "        <tr>\n",
       "            <td>2K Games             </td> <td>7.82353             </td>\n",
       "        </tr>\n",
       "        <tr>\n",
       "            <td>2K Sports            </td> <td>7.35556             </td>\n",
       "        </tr>\n",
       "        <tr>\n",
       "            <td>3DO                  </td> <td>6.05                </td>\n",
       "        </tr>\n",
       "        <tr>\n",
       "            <td>505 Games            </td> <td>5.68                </td>\n",
       "        </tr>\n",
       "        <tr>\n",
       "            <td>AIA                  </td> <td>6.4                 </td>\n",
       "        </tr>\n",
       "        <tr>\n",
       "            <td>AQ Interactive       </td> <td>3.9                 </td>\n",
       "        </tr>\n",
       "        <tr>\n",
       "            <td>Acclaim Entertainment</td> <td>7.17097             </td>\n",
       "        </tr>\n",
       "        <tr>\n",
       "            <td>Activision           </td> <td>7.16473             </td>\n",
       "        </tr>\n",
       "        <tr>\n",
       "            <td>Activision Value     </td> <td>3.3                 </td>\n",
       "        </tr>\n",
       "        <tr>\n",
       "            <td>Agetec               </td> <td>6.83                </td>\n",
       "        </tr>\n",
       "    </tbody>\n",
       "</table>\n",
       "<p>... (131 rows omitted)</p>"
      ],
      "text/plain": [
       "Publisher             | Critic Score average\n",
       "2K Games              | 7.82353\n",
       "2K Sports             | 7.35556\n",
       "3DO                   | 6.05\n",
       "505 Games             | 5.68\n",
       "AIA                   | 6.4\n",
       "AQ Interactive        | 3.9\n",
       "Acclaim Entertainment | 7.17097\n",
       "Activision            | 7.16473\n",
       "Activision Value      | 3.3\n",
       "Agetec                | 6.83\n",
       "... (131 rows omitted)"
      ]
     },
     "execution_count": 45,
     "metadata": {},
     "output_type": "execute_result"
    }
   ],
   "source": [
    "ten_C.select('Publisher', 'Critic Score').group('Publisher', np.average)"
   ]
  }
 ],
 "metadata": {
  "kernelspec": {
   "display_name": "Python 3 (ipykernel)",
   "language": "python",
   "name": "python3"
  },
  "language_info": {
   "codemirror_mode": {
    "name": "ipython",
    "version": 3
   },
   "file_extension": ".py",
   "mimetype": "text/x-python",
   "name": "python",
   "nbconvert_exporter": "python",
   "pygments_lexer": "ipython3",
   "version": "3.9.13"
  }
 },
 "nbformat": 4,
 "nbformat_minor": 5
}
