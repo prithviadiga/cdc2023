{
 "cells": [
  {
   "cell_type": "code",
   "execution_count": 4,
   "id": "677c962b-ae08-4ecd-953b-a7d6f488442c",
   "metadata": {},
   "outputs": [],
   "source": [
    "from datascience import *\n",
    "import numpy as np\n",
    "\n",
    "%matplotlib inline\n",
    "import matplotlib.pyplot as plots\n",
    "plots.style.use('fivethirtyeight')"
   ]
  },
  {
   "cell_type": "code",
   "execution_count": 14,
   "id": "25a632c1-518d-4a38-9428-55db05777852",
   "metadata": {},
   "outputs": [
    {
     "data": {
      "text/html": [
       "<table border=\"1\" class=\"dataframe\">\n",
       "    <thead>\n",
       "        <tr>\n",
       "            <th>Game</th> <th>Console</th> <th>Publisher</th> <th>Developer</th> <th>VGChartz Score</th> <th>Critic Score</th> <th>User Score</th> <th>Total Shipped</th> <th>Total Sales</th> <th>NA Sales</th> <th>PAL Sales</th> <th>Japan Sales</th> <th>Other Sales</th> <th>Release Date</th> <th>Last Update</th>\n",
       "        </tr>\n",
       "    </thead>\n",
       "    <tbody>\n",
       "        <tr>\n",
       "            <td>Tetris          </td> <td>Series_b</td> <td>The Tetris Company</td> <td>Alexey Pajitnov</td> <td>nan           </td> <td>nan         </td> <td>nan       </td> <td>496.40m      </td> <td>nan        </td> <td>nan     </td> <td>nan      </td> <td>nan        </td> <td>nan        </td> <td>01st Jan 88 </td> <td>27th Feb 20</td>\n",
       "        </tr>\n",
       "        <tr>\n",
       "            <td>Pokemon         </td> <td>Series_b</td> <td>Nintendo          </td> <td>Game Freak     </td> <td>nan           </td> <td>nan         </td> <td>nan       </td> <td>480.66m      </td> <td>nan        </td> <td>nan     </td> <td>nan      </td> <td>nan        </td> <td>nan        </td> <td>28th Sep 98 </td> <td>03rd Feb 20</td>\n",
       "        </tr>\n",
       "        <tr>\n",
       "            <td>Call of Duty    </td> <td>Series_b</td> <td>Activision        </td> <td>Infinity Ward  </td> <td>nan           </td> <td>nan         </td> <td>nan       </td> <td>425.00m      </td> <td>nan        </td> <td>nan     </td> <td>nan      </td> <td>nan        </td> <td>nan        </td> <td>29th Oct 03 </td> <td>03rd Feb 20</td>\n",
       "        </tr>\n",
       "        <tr>\n",
       "            <td>Grand Theft Auto</td> <td>Series_b</td> <td>Rockstar Games    </td> <td>Rockstar North </td> <td>nan           </td> <td>nan         </td> <td>nan       </td> <td>405.00m      </td> <td>nan        </td> <td>nan     </td> <td>nan      </td> <td>nan        </td> <td>nan        </td> <td>27th Mar 98 </td> <td>03rd Feb 20</td>\n",
       "        </tr>\n",
       "        <tr>\n",
       "            <td>Super Mario     </td> <td>Series_b</td> <td>Nintendo          </td> <td>Nintendo       </td> <td>nan           </td> <td>nan         </td> <td>nan       </td> <td>402.36m      </td> <td>nan        </td> <td>nan     </td> <td>nan      </td> <td>nan        </td> <td>nan        </td> <td>20th Jul 83 </td> <td>20th Feb 20</td>\n",
       "        </tr>\n",
       "    </tbody>\n",
       "</table>\n",
       "<p>... (62742 rows omitted)</p>"
      ],
      "text/plain": [
       "<IPython.core.display.HTML object>"
      ]
     },
     "metadata": {},
     "output_type": "display_data"
    }
   ],
   "source": [
    "Video_Data = Table.read_table('Business_Dataset.csv')\n",
    "Video_Data.show(5)"
   ]
  },
  {
   "cell_type": "code",
   "execution_count": 10,
   "id": "e3a87dea-eb21-428a-a4e5-0067e467b5e6",
   "metadata": {},
   "outputs": [
    {
     "data": {
      "text/plain": [
       "array(['01st Jan 88', '28th Sep 98', '29th Oct 03', ..., '06th Sep 18',\n",
       "       '31st Oct 17', '14th Sep 18'],\n",
       "      dtype='<U32')"
      ]
     },
     "execution_count": 10,
     "metadata": {},
     "output_type": "execute_result"
    }
   ],
   "source": [
    "Video_Data.column(\"Release Date\")"
   ]
  },
  {
   "cell_type": "code",
   "execution_count": 24,
   "id": "a61bccd9-4b61-499d-83fb-5c729ac7b7aa",
   "metadata": {},
   "outputs": [],
   "source": [
    "release_date = Video_Data.column(\"Release Date\")\n",
    "year = []\n",
    "for i in range(0, len(release_date)):\n",
    "    date = release_date[i].split()[-1]\n",
    "    year.append(date)"
   ]
  },
  {
   "cell_type": "code",
   "execution_count": 25,
   "id": "718b512c-6803-4a1c-992e-498a0ccf4d6e",
   "metadata": {},
   "outputs": [
    {
     "data": {
      "text/html": [
       "<table border=\"1\" class=\"dataframe\">\n",
       "    <thead>\n",
       "        <tr>\n",
       "            <th>Game</th> <th>Console</th> <th>Publisher</th> <th>Developer</th> <th>VGChartz Score</th> <th>Critic Score</th> <th>User Score</th> <th>Total Shipped</th> <th>Total Sales</th> <th>NA Sales</th> <th>PAL Sales</th> <th>Japan Sales</th> <th>Other Sales</th> <th>Last Update</th> <th>Release_Date</th>\n",
       "        </tr>\n",
       "    </thead>\n",
       "    <tbody>\n",
       "        <tr>\n",
       "            <td>Tetris          </td> <td>Series_b</td> <td>The Tetris Company</td> <td>Alexey Pajitnov</td> <td>nan           </td> <td>nan         </td> <td>nan       </td> <td>496.40m      </td> <td>nan        </td> <td>nan     </td> <td>nan      </td> <td>nan        </td> <td>nan        </td> <td>27th Feb 20</td> <td>88          </td>\n",
       "        </tr>\n",
       "        <tr>\n",
       "            <td>Pokemon         </td> <td>Series_b</td> <td>Nintendo          </td> <td>Game Freak     </td> <td>nan           </td> <td>nan         </td> <td>nan       </td> <td>480.66m      </td> <td>nan        </td> <td>nan     </td> <td>nan      </td> <td>nan        </td> <td>nan        </td> <td>03rd Feb 20</td> <td>98          </td>\n",
       "        </tr>\n",
       "        <tr>\n",
       "            <td>Call of Duty    </td> <td>Series_b</td> <td>Activision        </td> <td>Infinity Ward  </td> <td>nan           </td> <td>nan         </td> <td>nan       </td> <td>425.00m      </td> <td>nan        </td> <td>nan     </td> <td>nan      </td> <td>nan        </td> <td>nan        </td> <td>03rd Feb 20</td> <td>03          </td>\n",
       "        </tr>\n",
       "        <tr>\n",
       "            <td>Grand Theft Auto</td> <td>Series_b</td> <td>Rockstar Games    </td> <td>Rockstar North </td> <td>nan           </td> <td>nan         </td> <td>nan       </td> <td>405.00m      </td> <td>nan        </td> <td>nan     </td> <td>nan      </td> <td>nan        </td> <td>nan        </td> <td>03rd Feb 20</td> <td>98          </td>\n",
       "        </tr>\n",
       "        <tr>\n",
       "            <td>Super Mario     </td> <td>Series_b</td> <td>Nintendo          </td> <td>Nintendo       </td> <td>nan           </td> <td>nan         </td> <td>nan       </td> <td>402.36m      </td> <td>nan        </td> <td>nan     </td> <td>nan      </td> <td>nan        </td> <td>nan        </td> <td>20th Feb 20</td> <td>83          </td>\n",
       "        </tr>\n",
       "    </tbody>\n",
       "</table>\n",
       "<p>... (62742 rows omitted)</p>"
      ],
      "text/plain": [
       "<IPython.core.display.HTML object>"
      ]
     },
     "metadata": {},
     "output_type": "display_data"
    }
   ],
   "source": [
    "Video_Data_drop = Video_Data.drop(\"Release Date\")\n",
    "Video_Data_Release = Video_Data_drop.with_column(\"Release_Date\", year)\n",
    "Video_Data_Release.show(5)"
   ]
  },
  {
   "cell_type": "code",
   "execution_count": 26,
   "id": "97052d27-49b1-4546-8773-7ce386504619",
   "metadata": {},
   "outputs": [
    {
     "data": {
      "text/html": [
       "<table border=\"1\" class=\"dataframe\">\n",
       "    <thead>\n",
       "        <tr>\n",
       "            <th>Game</th> <th>Console</th> <th>Publisher</th> <th>Developer</th> <th>VGChartz Score</th> <th>Critic Score</th> <th>User Score</th> <th>Total Shipped</th> <th>Total Sales</th> <th>NA Sales</th> <th>PAL Sales</th> <th>Japan Sales</th> <th>Other Sales</th> <th>Last Update</th> <th>Release_Date</th>\n",
       "        </tr>\n",
       "    </thead>\n",
       "    <tbody>\n",
       "        <tr>\n",
       "            <td>Call of Duty       </td> <td>Series_b</td> <td>Activision     </td> <td>Infinity Ward</td> <td>nan           </td> <td>nan         </td> <td>nan       </td> <td>425.00m      </td> <td>nan        </td> <td>nan     </td> <td>nan      </td> <td>nan        </td> <td>nan        </td> <td>03rd Feb 20</td> <td>03          </td>\n",
       "        </tr>\n",
       "        <tr>\n",
       "            <td>Assassin's Creed   </td> <td>Series_b</td> <td>Ubisoft        </td> <td>Ubisoft      </td> <td>nan           </td> <td>nan         </td> <td>nan       </td> <td>200.00m      </td> <td>nan        </td> <td>nan     </td> <td>nan      </td> <td>nan        </td> <td>nan        </td> <td>11th Feb 20</td> <td>07          </td>\n",
       "        </tr>\n",
       "        <tr>\n",
       "            <td>The Sims           </td> <td>Series_b</td> <td>Electronic Arts</td> <td>Maxis        </td> <td>nan           </td> <td>nan         </td> <td>nan       </td> <td>200.00m      </td> <td>nan        </td> <td>nan     </td> <td>nan      </td> <td>nan        </td> <td>nan        </td> <td>18th Feb 20</td> <td>00          </td>\n",
       "        </tr>\n",
       "        <tr>\n",
       "            <td>Wii/Nintendo Sports</td> <td>Series_b</td> <td>Nintendo       </td> <td>Nintendo     </td> <td>nan           </td> <td>nan         </td> <td>nan       </td> <td>125.64m      </td> <td>nan        </td> <td>nan     </td> <td>nan      </td> <td>nan        </td> <td>nan        </td> <td>07th Feb 23</td> <td>06          </td>\n",
       "        </tr>\n",
       "        <tr>\n",
       "            <td>Monster Hunter     </td> <td>Series_b</td> <td>Capcom         </td> <td>Capcom       </td> <td>nan           </td> <td>nan         </td> <td>nan       </td> <td>94.00m       </td> <td>nan        </td> <td>nan     </td> <td>nan      </td> <td>nan        </td> <td>nan        </td> <td>03rd Feb 20</td> <td>04          </td>\n",
       "        </tr>\n",
       "    </tbody>\n",
       "</table>\n",
       "<p>... (21783 rows omitted)</p>"
      ],
      "text/plain": [
       "<IPython.core.display.HTML object>"
      ]
     },
     "metadata": {},
     "output_type": "display_data"
    }
   ],
   "source": [
    "Video_Data_Release.where(\"Release_Date\", are.below(\"10\")).show(5)"
   ]
  },
  {
   "cell_type": "code",
   "execution_count": null,
   "id": "d42cef11-3f5a-46dc-99cd-2bcd396064e1",
   "metadata": {},
   "outputs": [],
   "source": []
  }
 ],
 "metadata": {
  "kernelspec": {
   "display_name": "Python 3 (ipykernel)",
   "language": "python",
   "name": "python3"
  },
  "language_info": {
   "codemirror_mode": {
    "name": "ipython",
    "version": 3
   },
   "file_extension": ".py",
   "mimetype": "text/x-python",
   "name": "python",
   "nbconvert_exporter": "python",
   "pygments_lexer": "ipython3",
   "version": "3.9.13"
  }
 },
 "nbformat": 4,
 "nbformat_minor": 5
}
